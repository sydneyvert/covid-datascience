{
  "nbformat": 4,
  "nbformat_minor": 0,
  "metadata": {
    "colab": {
      "name": "Exploratory Data Analysis.ipynb",
      "provenance": [],
      "collapsed_sections": [],
      "mount_file_id": "1vWz2kiyBAwWwHMkiRu_eWMKM1NYU6U8h",
      "authorship_tag": "ABX9TyMOTnu21FQvf3WZrEIBlLvi",
      "include_colab_link": true
    },
    "kernelspec": {
      "name": "python3",
      "display_name": "Python 3"
    }
  },
  "cells": [
    {
      "cell_type": "markdown",
      "metadata": {
        "id": "view-in-github",
        "colab_type": "text"
      },
      "source": [
        "<a href=\"https://colab.research.google.com/github/sydneyvert/covid-datascience/blob/sally-develop/Exploratory_Data_Analysis.ipynb\" target=\"_parent\"><img src=\"https://colab.research.google.com/assets/colab-badge.svg\" alt=\"Open In Colab\"/></a>"
      ]
    },
    {
      "cell_type": "markdown",
      "metadata": {
        "id": "5SguZseqK6Gu",
        "colab_type": "text"
      },
      "source": [
        "Importing libraries for exploratory analysis"
      ]
    },
    {
      "cell_type": "code",
      "metadata": {
        "id": "yhUtvaGI__vx",
        "colab_type": "code",
        "colab": {
          "base_uri": "https://localhost:8080/",
          "height": 71
        },
        "outputId": "6cd5422f-c339-4a80-b6ca-46ea544fdc47"
      },
      "source": [
        "import pandas as pd\n",
        "import glob\n",
        "import os\n",
        "import matplotlib.pyplot as plt\n",
        "from matplotlib import ticker \n",
        "import seaborn as sns\n",
        "from datetime import datetime, timedelta,date"
      ],
      "execution_count": null,
      "outputs": [
        {
          "output_type": "stream",
          "text": [
            "/usr/local/lib/python3.6/dist-packages/statsmodels/tools/_testing.py:19: FutureWarning: pandas.util.testing is deprecated. Use the functions in the public API at pandas.testing instead.\n",
            "  import pandas.util.testing as tm\n"
          ],
          "name": "stderr"
        }
      ]
    },
    {
      "cell_type": "code",
      "metadata": {
        "id": "oeG-G8tWzpJ7",
        "colab_type": "code",
        "colab": {
          "base_uri": "https://localhost:8080/",
          "height": 71
        },
        "outputId": "42c204f0-e3d2-451f-9bbf-14ad7d537b9e"
      },
      "source": [
        "%cd drive/My\\ Drive/repos/covid_19_ML/covid-datascience"
      ],
      "execution_count": null,
      "outputs": [
        {
          "output_type": "stream",
          "text": [
            "[Errno 2] No such file or directory: 'drive/My Drive/repos/covid_19_ML/covid-datascience'\n",
            "/content/drive/My Drive/repos/covid_19_ML\n"
          ],
          "name": "stdout"
        }
      ]
    },
    {
      "cell_type": "code",
      "metadata": {
        "id": "GFXXmp9-MVqD",
        "colab_type": "code",
        "colab": {}
      },
      "source": [
        "df_recovered = pd.read_csv('datasets_494724_1405545_time_series_covid_19_recovered.csv')\n",
        "df_confirmed = pd.read_csv('datasets_494724_1405545_time_series_covid_19_confirmed.csv')\n",
        "df_deaths = pd.read_csv('datasets_494724_1405545_time_series_covid_19_deaths.csv')"
      ],
      "execution_count": null,
      "outputs": []
    },
    {
      "cell_type": "code",
      "metadata": {
        "id": "pKnucE0aC1hw",
        "colab_type": "code",
        "colab": {}
      },
      "source": [
        "df_list = [df_recovered, df_confirmed, df_deaths]"
      ],
      "execution_count": null,
      "outputs": []
    },
    {
      "cell_type": "code",
      "metadata": {
        "id": "T4pycfUq-ffS",
        "colab_type": "code",
        "colab": {
          "base_uri": "https://localhost:8080/",
          "height": 253
        },
        "outputId": "6484f537-44bd-450d-c48b-8a1387d6b916"
      },
      "source": [
        "df_recovered.head(5)"
      ],
      "execution_count": null,
      "outputs": [
        {
          "output_type": "execute_result",
          "data": {
            "text/html": [
              "<div>\n",
              "<style scoped>\n",
              "    .dataframe tbody tr th:only-of-type {\n",
              "        vertical-align: middle;\n",
              "    }\n",
              "\n",
              "    .dataframe tbody tr th {\n",
              "        vertical-align: top;\n",
              "    }\n",
              "\n",
              "    .dataframe thead th {\n",
              "        text-align: right;\n",
              "    }\n",
              "</style>\n",
              "<table border=\"1\" class=\"dataframe\">\n",
              "  <thead>\n",
              "    <tr style=\"text-align: right;\">\n",
              "      <th></th>\n",
              "      <th>Province/State</th>\n",
              "      <th>Country/Region</th>\n",
              "      <th>Lat</th>\n",
              "      <th>Long</th>\n",
              "      <th>1/22/20</th>\n",
              "      <th>1/23/20</th>\n",
              "      <th>1/24/20</th>\n",
              "      <th>1/25/20</th>\n",
              "      <th>1/26/20</th>\n",
              "      <th>1/27/20</th>\n",
              "      <th>1/28/20</th>\n",
              "      <th>1/29/20</th>\n",
              "      <th>1/30/20</th>\n",
              "      <th>1/31/20</th>\n",
              "      <th>2/1/20</th>\n",
              "      <th>2/2/20</th>\n",
              "      <th>2/3/20</th>\n",
              "      <th>2/4/20</th>\n",
              "      <th>2/5/20</th>\n",
              "      <th>2/6/20</th>\n",
              "      <th>2/7/20</th>\n",
              "      <th>2/8/20</th>\n",
              "      <th>2/9/20</th>\n",
              "      <th>2/10/20</th>\n",
              "      <th>2/11/20</th>\n",
              "      <th>2/12/20</th>\n",
              "      <th>2/13/20</th>\n",
              "      <th>2/14/20</th>\n",
              "      <th>2/15/20</th>\n",
              "      <th>2/16/20</th>\n",
              "      <th>2/17/20</th>\n",
              "      <th>2/18/20</th>\n",
              "      <th>2/19/20</th>\n",
              "      <th>2/20/20</th>\n",
              "      <th>2/21/20</th>\n",
              "      <th>2/22/20</th>\n",
              "      <th>2/23/20</th>\n",
              "      <th>2/24/20</th>\n",
              "      <th>2/25/20</th>\n",
              "      <th>2/26/20</th>\n",
              "      <th>...</th>\n",
              "      <th>6/29/20</th>\n",
              "      <th>6/30/20</th>\n",
              "      <th>7/1/20</th>\n",
              "      <th>7/2/20</th>\n",
              "      <th>7/3/20</th>\n",
              "      <th>7/4/20</th>\n",
              "      <th>7/5/20</th>\n",
              "      <th>7/6/20</th>\n",
              "      <th>7/7/20</th>\n",
              "      <th>7/8/20</th>\n",
              "      <th>7/9/20</th>\n",
              "      <th>7/10/20</th>\n",
              "      <th>7/11/20</th>\n",
              "      <th>7/12/20</th>\n",
              "      <th>7/13/20</th>\n",
              "      <th>7/14/20</th>\n",
              "      <th>7/15/20</th>\n",
              "      <th>7/16/20</th>\n",
              "      <th>7/17/20</th>\n",
              "      <th>7/18/20</th>\n",
              "      <th>7/19/20</th>\n",
              "      <th>7/20/20</th>\n",
              "      <th>7/21/20</th>\n",
              "      <th>7/22/20</th>\n",
              "      <th>7/23/20</th>\n",
              "      <th>7/24/20</th>\n",
              "      <th>7/25/20</th>\n",
              "      <th>7/26/20</th>\n",
              "      <th>7/27/20</th>\n",
              "      <th>7/28/20</th>\n",
              "      <th>7/29/20</th>\n",
              "      <th>7/30/20</th>\n",
              "      <th>7/31/20</th>\n",
              "      <th>8/1/20</th>\n",
              "      <th>8/2/20</th>\n",
              "      <th>8/3/20</th>\n",
              "      <th>8/4/20</th>\n",
              "      <th>8/5/20</th>\n",
              "      <th>8/6/20</th>\n",
              "      <th>8/7/20</th>\n",
              "    </tr>\n",
              "  </thead>\n",
              "  <tbody>\n",
              "    <tr>\n",
              "      <th>0</th>\n",
              "      <td>NaN</td>\n",
              "      <td>Afghanistan</td>\n",
              "      <td>33.93911</td>\n",
              "      <td>67.709953</td>\n",
              "      <td>0</td>\n",
              "      <td>0</td>\n",
              "      <td>0</td>\n",
              "      <td>0</td>\n",
              "      <td>0</td>\n",
              "      <td>0</td>\n",
              "      <td>0</td>\n",
              "      <td>0</td>\n",
              "      <td>0</td>\n",
              "      <td>0</td>\n",
              "      <td>0</td>\n",
              "      <td>0</td>\n",
              "      <td>0</td>\n",
              "      <td>0</td>\n",
              "      <td>0</td>\n",
              "      <td>0</td>\n",
              "      <td>0</td>\n",
              "      <td>0</td>\n",
              "      <td>0</td>\n",
              "      <td>0</td>\n",
              "      <td>0</td>\n",
              "      <td>0</td>\n",
              "      <td>0</td>\n",
              "      <td>0</td>\n",
              "      <td>0</td>\n",
              "      <td>0</td>\n",
              "      <td>0</td>\n",
              "      <td>0</td>\n",
              "      <td>0</td>\n",
              "      <td>0</td>\n",
              "      <td>0</td>\n",
              "      <td>0</td>\n",
              "      <td>0</td>\n",
              "      <td>0</td>\n",
              "      <td>0</td>\n",
              "      <td>0</td>\n",
              "      <td>...</td>\n",
              "      <td>13934</td>\n",
              "      <td>14131</td>\n",
              "      <td>15651</td>\n",
              "      <td>16041</td>\n",
              "      <td>17331</td>\n",
              "      <td>19164</td>\n",
              "      <td>19366</td>\n",
              "      <td>20103</td>\n",
              "      <td>20179</td>\n",
              "      <td>20700</td>\n",
              "      <td>20847</td>\n",
              "      <td>20882</td>\n",
              "      <td>21135</td>\n",
              "      <td>21216</td>\n",
              "      <td>21254</td>\n",
              "      <td>21454</td>\n",
              "      <td>22456</td>\n",
              "      <td>22824</td>\n",
              "      <td>23151</td>\n",
              "      <td>23273</td>\n",
              "      <td>23634</td>\n",
              "      <td>23741</td>\n",
              "      <td>23741</td>\n",
              "      <td>23924</td>\n",
              "      <td>24550</td>\n",
              "      <td>24602</td>\n",
              "      <td>24793</td>\n",
              "      <td>25180</td>\n",
              "      <td>25198</td>\n",
              "      <td>25358</td>\n",
              "      <td>25389</td>\n",
              "      <td>25471</td>\n",
              "      <td>25509</td>\n",
              "      <td>25509</td>\n",
              "      <td>25510</td>\n",
              "      <td>25669</td>\n",
              "      <td>25669</td>\n",
              "      <td>25742</td>\n",
              "      <td>25840</td>\n",
              "      <td>25903</td>\n",
              "    </tr>\n",
              "    <tr>\n",
              "      <th>1</th>\n",
              "      <td>NaN</td>\n",
              "      <td>Albania</td>\n",
              "      <td>41.15330</td>\n",
              "      <td>20.168300</td>\n",
              "      <td>0</td>\n",
              "      <td>0</td>\n",
              "      <td>0</td>\n",
              "      <td>0</td>\n",
              "      <td>0</td>\n",
              "      <td>0</td>\n",
              "      <td>0</td>\n",
              "      <td>0</td>\n",
              "      <td>0</td>\n",
              "      <td>0</td>\n",
              "      <td>0</td>\n",
              "      <td>0</td>\n",
              "      <td>0</td>\n",
              "      <td>0</td>\n",
              "      <td>0</td>\n",
              "      <td>0</td>\n",
              "      <td>0</td>\n",
              "      <td>0</td>\n",
              "      <td>0</td>\n",
              "      <td>0</td>\n",
              "      <td>0</td>\n",
              "      <td>0</td>\n",
              "      <td>0</td>\n",
              "      <td>0</td>\n",
              "      <td>0</td>\n",
              "      <td>0</td>\n",
              "      <td>0</td>\n",
              "      <td>0</td>\n",
              "      <td>0</td>\n",
              "      <td>0</td>\n",
              "      <td>0</td>\n",
              "      <td>0</td>\n",
              "      <td>0</td>\n",
              "      <td>0</td>\n",
              "      <td>0</td>\n",
              "      <td>0</td>\n",
              "      <td>...</td>\n",
              "      <td>1438</td>\n",
              "      <td>1459</td>\n",
              "      <td>1516</td>\n",
              "      <td>1559</td>\n",
              "      <td>1592</td>\n",
              "      <td>1637</td>\n",
              "      <td>1657</td>\n",
              "      <td>1702</td>\n",
              "      <td>1744</td>\n",
              "      <td>1791</td>\n",
              "      <td>1832</td>\n",
              "      <td>1875</td>\n",
              "      <td>1881</td>\n",
              "      <td>1946</td>\n",
              "      <td>2014</td>\n",
              "      <td>2062</td>\n",
              "      <td>2091</td>\n",
              "      <td>2137</td>\n",
              "      <td>2214</td>\n",
              "      <td>2264</td>\n",
              "      <td>2311</td>\n",
              "      <td>2352</td>\n",
              "      <td>2397</td>\n",
              "      <td>2463</td>\n",
              "      <td>2523</td>\n",
              "      <td>2608</td>\n",
              "      <td>2637</td>\n",
              "      <td>2682</td>\n",
              "      <td>2745</td>\n",
              "      <td>2789</td>\n",
              "      <td>2830</td>\n",
              "      <td>2883</td>\n",
              "      <td>2952</td>\n",
              "      <td>2961</td>\n",
              "      <td>3018</td>\n",
              "      <td>3031</td>\n",
              "      <td>3031</td>\n",
              "      <td>3123</td>\n",
              "      <td>3155</td>\n",
              "      <td>3227</td>\n",
              "    </tr>\n",
              "    <tr>\n",
              "      <th>2</th>\n",
              "      <td>NaN</td>\n",
              "      <td>Algeria</td>\n",
              "      <td>28.03390</td>\n",
              "      <td>1.659600</td>\n",
              "      <td>0</td>\n",
              "      <td>0</td>\n",
              "      <td>0</td>\n",
              "      <td>0</td>\n",
              "      <td>0</td>\n",
              "      <td>0</td>\n",
              "      <td>0</td>\n",
              "      <td>0</td>\n",
              "      <td>0</td>\n",
              "      <td>0</td>\n",
              "      <td>0</td>\n",
              "      <td>0</td>\n",
              "      <td>0</td>\n",
              "      <td>0</td>\n",
              "      <td>0</td>\n",
              "      <td>0</td>\n",
              "      <td>0</td>\n",
              "      <td>0</td>\n",
              "      <td>0</td>\n",
              "      <td>0</td>\n",
              "      <td>0</td>\n",
              "      <td>0</td>\n",
              "      <td>0</td>\n",
              "      <td>0</td>\n",
              "      <td>0</td>\n",
              "      <td>0</td>\n",
              "      <td>0</td>\n",
              "      <td>0</td>\n",
              "      <td>0</td>\n",
              "      <td>0</td>\n",
              "      <td>0</td>\n",
              "      <td>0</td>\n",
              "      <td>0</td>\n",
              "      <td>0</td>\n",
              "      <td>0</td>\n",
              "      <td>0</td>\n",
              "      <td>...</td>\n",
              "      <td>9674</td>\n",
              "      <td>9897</td>\n",
              "      <td>10040</td>\n",
              "      <td>10342</td>\n",
              "      <td>10832</td>\n",
              "      <td>11181</td>\n",
              "      <td>11492</td>\n",
              "      <td>11884</td>\n",
              "      <td>12094</td>\n",
              "      <td>12329</td>\n",
              "      <td>12637</td>\n",
              "      <td>13124</td>\n",
              "      <td>13124</td>\n",
              "      <td>13743</td>\n",
              "      <td>14019</td>\n",
              "      <td>14295</td>\n",
              "      <td>14792</td>\n",
              "      <td>15107</td>\n",
              "      <td>15430</td>\n",
              "      <td>15744</td>\n",
              "      <td>16051</td>\n",
              "      <td>16400</td>\n",
              "      <td>16646</td>\n",
              "      <td>16983</td>\n",
              "      <td>17369</td>\n",
              "      <td>17369</td>\n",
              "      <td>18076</td>\n",
              "      <td>18088</td>\n",
              "      <td>18837</td>\n",
              "      <td>19233</td>\n",
              "      <td>19592</td>\n",
              "      <td>20082</td>\n",
              "      <td>20537</td>\n",
              "      <td>20988</td>\n",
              "      <td>21419</td>\n",
              "      <td>21901</td>\n",
              "      <td>22375</td>\n",
              "      <td>22802</td>\n",
              "      <td>23238</td>\n",
              "      <td>23667</td>\n",
              "    </tr>\n",
              "    <tr>\n",
              "      <th>3</th>\n",
              "      <td>NaN</td>\n",
              "      <td>Andorra</td>\n",
              "      <td>42.50630</td>\n",
              "      <td>1.521800</td>\n",
              "      <td>0</td>\n",
              "      <td>0</td>\n",
              "      <td>0</td>\n",
              "      <td>0</td>\n",
              "      <td>0</td>\n",
              "      <td>0</td>\n",
              "      <td>0</td>\n",
              "      <td>0</td>\n",
              "      <td>0</td>\n",
              "      <td>0</td>\n",
              "      <td>0</td>\n",
              "      <td>0</td>\n",
              "      <td>0</td>\n",
              "      <td>0</td>\n",
              "      <td>0</td>\n",
              "      <td>0</td>\n",
              "      <td>0</td>\n",
              "      <td>0</td>\n",
              "      <td>0</td>\n",
              "      <td>0</td>\n",
              "      <td>0</td>\n",
              "      <td>0</td>\n",
              "      <td>0</td>\n",
              "      <td>0</td>\n",
              "      <td>0</td>\n",
              "      <td>0</td>\n",
              "      <td>0</td>\n",
              "      <td>0</td>\n",
              "      <td>0</td>\n",
              "      <td>0</td>\n",
              "      <td>0</td>\n",
              "      <td>0</td>\n",
              "      <td>0</td>\n",
              "      <td>0</td>\n",
              "      <td>0</td>\n",
              "      <td>0</td>\n",
              "      <td>...</td>\n",
              "      <td>799</td>\n",
              "      <td>799</td>\n",
              "      <td>799</td>\n",
              "      <td>800</td>\n",
              "      <td>800</td>\n",
              "      <td>800</td>\n",
              "      <td>800</td>\n",
              "      <td>800</td>\n",
              "      <td>800</td>\n",
              "      <td>802</td>\n",
              "      <td>802</td>\n",
              "      <td>803</td>\n",
              "      <td>803</td>\n",
              "      <td>803</td>\n",
              "      <td>803</td>\n",
              "      <td>803</td>\n",
              "      <td>803</td>\n",
              "      <td>803</td>\n",
              "      <td>803</td>\n",
              "      <td>803</td>\n",
              "      <td>803</td>\n",
              "      <td>803</td>\n",
              "      <td>803</td>\n",
              "      <td>803</td>\n",
              "      <td>803</td>\n",
              "      <td>803</td>\n",
              "      <td>803</td>\n",
              "      <td>803</td>\n",
              "      <td>803</td>\n",
              "      <td>803</td>\n",
              "      <td>804</td>\n",
              "      <td>806</td>\n",
              "      <td>807</td>\n",
              "      <td>807</td>\n",
              "      <td>807</td>\n",
              "      <td>821</td>\n",
              "      <td>825</td>\n",
              "      <td>825</td>\n",
              "      <td>828</td>\n",
              "      <td>839</td>\n",
              "    </tr>\n",
              "    <tr>\n",
              "      <th>4</th>\n",
              "      <td>NaN</td>\n",
              "      <td>Angola</td>\n",
              "      <td>-11.20270</td>\n",
              "      <td>17.873900</td>\n",
              "      <td>0</td>\n",
              "      <td>0</td>\n",
              "      <td>0</td>\n",
              "      <td>0</td>\n",
              "      <td>0</td>\n",
              "      <td>0</td>\n",
              "      <td>0</td>\n",
              "      <td>0</td>\n",
              "      <td>0</td>\n",
              "      <td>0</td>\n",
              "      <td>0</td>\n",
              "      <td>0</td>\n",
              "      <td>0</td>\n",
              "      <td>0</td>\n",
              "      <td>0</td>\n",
              "      <td>0</td>\n",
              "      <td>0</td>\n",
              "      <td>0</td>\n",
              "      <td>0</td>\n",
              "      <td>0</td>\n",
              "      <td>0</td>\n",
              "      <td>0</td>\n",
              "      <td>0</td>\n",
              "      <td>0</td>\n",
              "      <td>0</td>\n",
              "      <td>0</td>\n",
              "      <td>0</td>\n",
              "      <td>0</td>\n",
              "      <td>0</td>\n",
              "      <td>0</td>\n",
              "      <td>0</td>\n",
              "      <td>0</td>\n",
              "      <td>0</td>\n",
              "      <td>0</td>\n",
              "      <td>0</td>\n",
              "      <td>0</td>\n",
              "      <td>...</td>\n",
              "      <td>93</td>\n",
              "      <td>93</td>\n",
              "      <td>97</td>\n",
              "      <td>97</td>\n",
              "      <td>107</td>\n",
              "      <td>108</td>\n",
              "      <td>108</td>\n",
              "      <td>108</td>\n",
              "      <td>117</td>\n",
              "      <td>117</td>\n",
              "      <td>117</td>\n",
              "      <td>117</td>\n",
              "      <td>118</td>\n",
              "      <td>118</td>\n",
              "      <td>118</td>\n",
              "      <td>118</td>\n",
              "      <td>124</td>\n",
              "      <td>124</td>\n",
              "      <td>199</td>\n",
              "      <td>210</td>\n",
              "      <td>221</td>\n",
              "      <td>221</td>\n",
              "      <td>221</td>\n",
              "      <td>221</td>\n",
              "      <td>236</td>\n",
              "      <td>241</td>\n",
              "      <td>242</td>\n",
              "      <td>242</td>\n",
              "      <td>242</td>\n",
              "      <td>266</td>\n",
              "      <td>301</td>\n",
              "      <td>395</td>\n",
              "      <td>437</td>\n",
              "      <td>460</td>\n",
              "      <td>461</td>\n",
              "      <td>476</td>\n",
              "      <td>503</td>\n",
              "      <td>506</td>\n",
              "      <td>520</td>\n",
              "      <td>544</td>\n",
              "    </tr>\n",
              "  </tbody>\n",
              "</table>\n",
              "<p>5 rows × 203 columns</p>\n",
              "</div>"
            ],
            "text/plain": [
              "  Province/State Country/Region       Lat  ...  8/5/20  8/6/20  8/7/20\n",
              "0            NaN    Afghanistan  33.93911  ...   25742   25840   25903\n",
              "1            NaN        Albania  41.15330  ...    3123    3155    3227\n",
              "2            NaN        Algeria  28.03390  ...   22802   23238   23667\n",
              "3            NaN        Andorra  42.50630  ...     825     828     839\n",
              "4            NaN         Angola -11.20270  ...     506     520     544\n",
              "\n",
              "[5 rows x 203 columns]"
            ]
          },
          "metadata": {
            "tags": []
          },
          "execution_count": 10
        }
      ]
    },
    {
      "cell_type": "code",
      "metadata": {
        "id": "c5WJfSc38CWS",
        "colab_type": "code",
        "colab": {
          "base_uri": "https://localhost:8080/",
          "height": 102
        },
        "outputId": "5d635906-cd09-4095-8985-ab8b211827d8"
      },
      "source": [
        "df_recovered.info()"
      ],
      "execution_count": null,
      "outputs": [
        {
          "output_type": "stream",
          "text": [
            "<class 'pandas.core.frame.DataFrame'>\n",
            "RangeIndex: 253 entries, 0 to 252\n",
            "Columns: 203 entries, Province/State to 8/7/20\n",
            "dtypes: float64(2), int64(199), object(2)\n",
            "memory usage: 401.4+ KB\n"
          ],
          "name": "stdout"
        }
      ]
    },
    {
      "cell_type": "code",
      "metadata": {
        "id": "H4PqmKQk9kky",
        "colab_type": "code",
        "colab": {
          "base_uri": "https://localhost:8080/",
          "height": 119
        },
        "outputId": "4bb54bf4-e166-4630-b90d-7253bf72ba38"
      },
      "source": [
        "df_recovered.columns"
      ],
      "execution_count": null,
      "outputs": [
        {
          "output_type": "execute_result",
          "data": {
            "text/plain": [
              "Index(['Province/State', 'Country/Region', 'Lat', 'Long', '1/22/20', '1/23/20',\n",
              "       '1/24/20', '1/25/20', '1/26/20', '1/27/20',\n",
              "       ...\n",
              "       '7/29/20', '7/30/20', '7/31/20', '8/1/20', '8/2/20', '8/3/20', '8/4/20',\n",
              "       '8/5/20', '8/6/20', '8/7/20'],\n",
              "      dtype='object', length=203)"
            ]
          },
          "metadata": {
            "tags": []
          },
          "execution_count": 12
        }
      ]
    },
    {
      "cell_type": "markdown",
      "metadata": {
        "id": "Dw8nQZRt9vE2",
        "colab_type": "text"
      },
      "source": [
        "Find total cases per province/state - country/region:"
      ]
    },
    {
      "cell_type": "code",
      "metadata": {
        "id": "Y0cPEKUi9uGI",
        "colab_type": "code",
        "colab": {}
      },
      "source": [
        "def add_sum_column(df):\n",
        "  # Drop lat and long\n",
        "  df_copy = df.drop(['Lat', 'Long'], axis=1)\n",
        "  # Sum together columns\n",
        "  df['Sum']=df_copy.sum(axis = 1, numeric_only = True)\n",
        "  return df"
      ],
      "execution_count": null,
      "outputs": []
    },
    {
      "cell_type": "code",
      "metadata": {
        "id": "EMBVChOxC0As",
        "colab_type": "code",
        "colab": {}
      },
      "source": [
        "for df in df_list:\n",
        "  df = add_sum_column(df)"
      ],
      "execution_count": null,
      "outputs": []
    },
    {
      "cell_type": "code",
      "metadata": {
        "id": "wxuFmG9J_cX9",
        "colab_type": "code",
        "colab": {
          "base_uri": "https://localhost:8080/",
          "height": 290
        },
        "outputId": "e3766be4-a574-41de-d647-b2215ddae081"
      },
      "source": [
        "ax = df_recovered.plot.bar(x='Country/Region', y='Sum', rot=0)"
      ],
      "execution_count": null,
      "outputs": [
        {
          "output_type": "display_data",
          "data": {
            "image/png": "[encoded data removed]",
            "text/plain": [
              "<Figure size 432x288 with 1 Axes>"
            ]
          },
          "metadata": {
            "tags": [],
            "needs_background": "light"
          }
        }
      ]
    },
    {
      "cell_type": "markdown",
      "metadata": {
        "id": "QR3srofiE7Y2",
        "colab_type": "text"
      },
      "source": [
        "There are so many countries !!\n",
        "Options:\n",
        "* Pick a question relating to all countries: train on all and only visualise top 25\n",
        "* Pick a question which groups countries (eg by continent?)\n",
        "* Pick a question on a subset of the countries"
      ]
    },
    {
      "cell_type": "code",
      "metadata": {
        "id": "mxBzOmjZFjIt",
        "colab_type": "code",
        "colab": {}
      },
      "source": [
        "df_recovered.sort_values(by=['Sum'], ascending=False, inplace=True, ignore_index=True )"
      ],
      "execution_count": null,
      "outputs": []
    },
    {
      "cell_type": "code",
      "metadata": {
        "id": "lg3cpCyeGNBg",
        "colab_type": "code",
        "colab": {
          "base_uri": "https://localhost:8080/",
          "height": 376
        },
        "outputId": "00e171f6-c19b-4f7f-c4bf-348d546bb9e9"
      },
      "source": [
        "sns.set(style='whitegrid')\n",
        "plt.figure(figsize=(20,10))\n",
        "ax = sns.barplot(y=df_recovered['Country/Region'].iloc[0:10], x=df_recovered['Sum'])"
      ],
      "execution_count": null,
      "outputs": [
        {
          "output_type": "display_data",
          "data": {
            "image/png": "[encoded data removed]",
            "text/plain": [
              "<Figure size 1440x720 with 1 Axes>"
            ]
          },
          "metadata": {
            "tags": []
          }
        }
      ]
    },
    {
      "cell_type": "markdown",
      "metadata": {
        "id": "PnhBYC7QHrAy",
        "colab_type": "text"
      },
      "source": [
        "Combine dataframes to look at total recovered, confirmed and dead"
      ]
    },
    {
      "cell_type": "code",
      "metadata": {
        "id": "-CalLpIKHyP_",
        "colab_type": "code",
        "colab": {}
      },
      "source": [
        "df_recovered = df_recovered.rename(columns={'Sum': 'Total Recovered'})\n",
        "df_confirmed = df_confirmed.rename(columns={'Sum': 'Total Confirmed'})\n",
        "df_deaths = df_deaths.rename(columns={'Sum': 'Total Dead'})\n",
        "\n",
        "for df in df_list:\n",
        "  df.set_index(['Country/Region', 'Province/State'])"
      ],
      "execution_count": null,
      "outputs": []
    },
    {
      "cell_type": "code",
      "metadata": {
        "id": "1YuWyGEvKPtw",
        "colab_type": "code",
        "colab": {
          "base_uri": "https://localhost:8080/",
          "height": 436
        },
        "outputId": "b2bbcada-968d-448b-ab3c-421b84959f9e"
      },
      "source": [
        "df_combi = pd.concat(\n",
        "    [df_recovered[['Country/Region', 'Province/State', 'Total Recovered']],\n",
        "      df_confirmed['Total Confirmed'],\n",
        "      df_deaths['Total Dead']],\n",
        "      axis = 1\n",
        ")"
      ],
      "execution_count": null,
      "outputs": [
        {
          "output_type": "execute_result",
          "data": {
            "text/html": [
              "<div>\n",
              "<style scoped>\n",
              "    .dataframe tbody tr th:only-of-type {\n",
              "        vertical-align: middle;\n",
              "    }\n",
              "\n",
              "    .dataframe tbody tr th {\n",
              "        vertical-align: top;\n",
              "    }\n",
              "\n",
              "    .dataframe thead th {\n",
              "        text-align: right;\n",
              "    }\n",
              "</style>\n",
              "<table border=\"1\" class=\"dataframe\">\n",
              "  <thead>\n",
              "    <tr style=\"text-align: right;\">\n",
              "      <th></th>\n",
              "      <th>index</th>\n",
              "      <th>Country/Region</th>\n",
              "      <th>Province/State</th>\n",
              "      <th>Total Recovered</th>\n",
              "      <th>Total Confirmed</th>\n",
              "      <th>Total Dead</th>\n",
              "    </tr>\n",
              "  </thead>\n",
              "  <tbody>\n",
              "    <tr>\n",
              "      <th>0</th>\n",
              "      <td>0</td>\n",
              "      <td>Brazil</td>\n",
              "      <td>NaN</td>\n",
              "      <td>77300605.0</td>\n",
              "      <td>2340135</td>\n",
              "      <td>63224</td>\n",
              "    </tr>\n",
              "    <tr>\n",
              "      <th>1</th>\n",
              "      <td>1</td>\n",
              "      <td>US</td>\n",
              "      <td>NaN</td>\n",
              "      <td>72723863.0</td>\n",
              "      <td>257618</td>\n",
              "      <td>7551</td>\n",
              "    </tr>\n",
              "    <tr>\n",
              "      <th>2</th>\n",
              "      <td>2</td>\n",
              "      <td>India</td>\n",
              "      <td>NaN</td>\n",
              "      <td>36919208.0</td>\n",
              "      <td>1525551</td>\n",
              "      <td>91499</td>\n",
              "    </tr>\n",
              "    <tr>\n",
              "      <th>3</th>\n",
              "      <td>3</td>\n",
              "      <td>Russia</td>\n",
              "      <td>NaN</td>\n",
              "      <td>32248460.0</td>\n",
              "      <td>104640</td>\n",
              "      <td>5995</td>\n",
              "    </tr>\n",
              "    <tr>\n",
              "      <th>4</th>\n",
              "      <td>4</td>\n",
              "      <td>Germany</td>\n",
              "      <td>NaN</td>\n",
              "      <td>19232467.0</td>\n",
              "      <td>36400</td>\n",
              "      <td>1695</td>\n",
              "    </tr>\n",
              "    <tr>\n",
              "      <th>...</th>\n",
              "      <td>...</td>\n",
              "      <td>...</td>\n",
              "      <td>...</td>\n",
              "      <td>...</td>\n",
              "      <td>...</td>\n",
              "      <td>...</td>\n",
              "    </tr>\n",
              "    <tr>\n",
              "      <th>261</th>\n",
              "      <td>261</td>\n",
              "      <td>NaN</td>\n",
              "      <td>NaN</td>\n",
              "      <td>NaN</td>\n",
              "      <td>56491</td>\n",
              "      <td>1114</td>\n",
              "    </tr>\n",
              "    <tr>\n",
              "      <th>262</th>\n",
              "      <td>262</td>\n",
              "      <td>NaN</td>\n",
              "      <td>NaN</td>\n",
              "      <td>NaN</td>\n",
              "      <td>86333</td>\n",
              "      <td>23180</td>\n",
              "    </tr>\n",
              "    <tr>\n",
              "      <th>263</th>\n",
              "      <td>263</td>\n",
              "      <td>NaN</td>\n",
              "      <td>NaN</td>\n",
              "      <td>NaN</td>\n",
              "      <td>20037</td>\n",
              "      <td>414</td>\n",
              "    </tr>\n",
              "    <tr>\n",
              "      <th>264</th>\n",
              "      <td>264</td>\n",
              "      <td>NaN</td>\n",
              "      <td>NaN</td>\n",
              "      <td>NaN</td>\n",
              "      <td>465460</td>\n",
              "      <td>4583</td>\n",
              "    </tr>\n",
              "    <tr>\n",
              "      <th>265</th>\n",
              "      <td>265</td>\n",
              "      <td>NaN</td>\n",
              "      <td>NaN</td>\n",
              "      <td>NaN</td>\n",
              "      <td>14157</td>\n",
              "      <td>289</td>\n",
              "    </tr>\n",
              "  </tbody>\n",
              "</table>\n",
              "<p>266 rows × 6 columns</p>\n",
              "</div>"
            ],
            "text/plain": [
              "     index Country/Region  ... Total Confirmed  Total Dead\n",
              "0        0         Brazil  ...         2340135       63224\n",
              "1        1             US  ...          257618        7551\n",
              "2        2          India  ...         1525551       91499\n",
              "3        3         Russia  ...          104640        5995\n",
              "4        4        Germany  ...           36400        1695\n",
              "..     ...            ...  ...             ...         ...\n",
              "261    261            NaN  ...           56491        1114\n",
              "262    262            NaN  ...           86333       23180\n",
              "263    263            NaN  ...           20037         414\n",
              "264    264            NaN  ...          465460        4583\n",
              "265    265            NaN  ...           14157         289\n",
              "\n",
              "[266 rows x 6 columns]"
            ]
          },
          "metadata": {
            "tags": []
          },
          "execution_count": 44
        }
      ]
    },
    {
      "cell_type": "code",
      "metadata": {
        "id": "lyxvBBVxNZC7",
        "colab_type": "code",
        "colab": {
          "base_uri": "https://localhost:8080/",
          "height": 622
        },
        "outputId": "0bc0ea24-bfc5-4da5-d674-e0b97b825eb2"
      },
      "source": [
        "sns.set(style='whitegrid')\n",
        "fig, ax1 = plt.subplots(figsize=(10, 10))\n",
        "tidy = df_combi.melt(id_vars=['Country/Region', 'Province/State'], \n",
        "                     value_vars = ['Total Recovered', 'Total Confirmed', 'Total Dead'],\n",
        "                     var_name = 'Case Type',\n",
        "                     value_name = 'Totals').rename(columns=str.title)\n",
        "tidy_sorted = tidy.sort_values('Country/Region')\n",
        "sns.barplot(x='Country/Region', y='Totals', hue='Case Type', data=tidy_sorted.iloc[0:75], ax=ax1)\n",
        "sns.despine(fig)"
      ],
      "execution_count": null,
      "outputs": [
        {
          "output_type": "display_data",
          "data": {
            "image/png": "[encoded data removed]",
            "text/plain": [
              "<Figure size 720x720 with 1 Axes>"
            ]
          },
          "metadata": {
            "tags": []
          }
        }
      ]
    },
    {
      "cell_type": "markdown",
      "metadata": {
        "id": "SQmTFjK1QhOz",
        "colab_type": "text"
      },
      "source": [
        "To do: normalise (min/max scaler?) case types and replot to compare death / recovery / confirmed cases.\n"
      ]
    },
    {
      "cell_type": "code",
      "metadata": {
        "id": "9tObb6KP4GNU",
        "colab_type": "code",
        "colab": {}
      },
      "source": [
        ""
      ],
      "execution_count": null,
      "outputs": []
    }
  ]
}